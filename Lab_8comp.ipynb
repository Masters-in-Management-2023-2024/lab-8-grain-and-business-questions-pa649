{
  "cells": [
    {
      "cell_type": "markdown",
      "metadata": {
        "id": "av6ntgqgLr1p"
      },
      "source": [
        "# Diamond Company Analytics Challenge\n",
        "\n",
        "**Time:** 35 minutes\n",
        "\n",
        "**Scenario:** You are the new data analyst at a prestigious diamond company. The CEO has called an urgent meeting and needs answers to critical business questions about the inventory.\n",
        "\n",
        "**Your Mission:** Analyze the diamond inventory data and provide insights to guide strategic decisions."
      ]
    },
    {
      "cell_type": "code",
      "execution_count": 1,
      "metadata": {
        "colab": {
          "base_uri": "https://localhost:8080/"
        },
        "id": "VaU3ac9eLr1v",
        "outputId": "a4f729e5-8d85-4def-fe0a-90cf68b524cb"
      },
      "outputs": [
        {
          "output_type": "stream",
          "name": "stdout",
          "text": [
            "Loading diamonds dataset...\n",
            "Dataset loaded successfully!\n"
          ]
        }
      ],
      "source": [
        "import polars as pl\n",
        "\n",
        "# Load the diamonds dataset\n",
        "print(\"Loading diamonds dataset...\")\n",
        "df = pl.read_csv('https://raw.githubusercontent.com/pycaret/pycaret/master/datasets/diamond.csv')\n",
        "print(\"Dataset loaded successfully!\")"
      ]
    },
    {
      "cell_type": "markdown",
      "metadata": {
        "id": "6pIIn2yjLr1x"
      },
      "source": [
        "## Section 1: Initial Inventory Assessment (5 minutes)\n",
        "\n",
        "The CEO walks in: \"Before we dive into specifics, I need to understand what we're working with. Give me the basics about our inventory database.\""
      ]
    },
    {
      "cell_type": "markdown",
      "metadata": {
        "id": "33cEqaAnLr1z"
      },
      "source": [
        "### Question 1: \"How extensive is our inventory database?\"\n",
        "\n",
        "The CEO needs to know the scale of data you're analyzing."
      ]
    },
    {
      "cell_type": "code",
      "execution_count": 4,
      "metadata": {
        "colab": {
          "base_uri": "https://localhost:8080/"
        },
        "id": "yprtA-p3Lr10",
        "outputId": "ac6ccd13-4500-42bb-e125-f1415fb6c8e5"
      },
      "outputs": [
        {
          "output_type": "stream",
          "name": "stdout",
          "text": [
            "The database has 6000 rows and 8 columns.\n"
          ]
        }
      ],
      "source": [
        "# Your code here:\n",
        "\n",
        "print(f\"The database has {df.shape[0]} rows and {df.shape[1]} columns.\")"
      ]
    },
    {
      "cell_type": "markdown",
      "metadata": {
        "id": "2rplVAh4Lr11"
      },
      "source": [
        "### Question 2: \"What information do we track about each diamond?\"\n",
        "\n",
        "List all the characteristics we record."
      ]
    },
    {
      "cell_type": "code",
      "execution_count": 7,
      "metadata": {
        "colab": {
          "base_uri": "https://localhost:8080/"
        },
        "id": "TBhR6GWMLr12",
        "outputId": "b27f7465-9ad8-4a62-b73c-53dafc4ae2b5"
      },
      "outputs": [
        {
          "output_type": "stream",
          "name": "stdout",
          "text": [
            "The database tracks the following information about each diamond:\n"
          ]
        },
        {
          "output_type": "execute_result",
          "data": {
            "text/plain": [
              "['Carat Weight',\n",
              " 'Cut',\n",
              " 'Color',\n",
              " 'Clarity',\n",
              " 'Polish',\n",
              " 'Symmetry',\n",
              " 'Report',\n",
              " 'Price']"
            ]
          },
          "metadata": {},
          "execution_count": 7
        }
      ],
      "source": [
        "# Your code here:\n",
        "\n",
        "print(\"The database tracks the following information about each diamond:\")\n",
        "df.columns"
      ]
    },
    {
      "cell_type": "markdown",
      "metadata": {
        "id": "hW8WFpFCLr12"
      },
      "source": [
        "### Question 3: \"When I look at one line in this database, what am I looking at?\"\n",
        "\n",
        "Explain in business terms:"
      ]
    },
    {
      "cell_type": "markdown",
      "metadata": {
        "id": "voq-ebfPLr13"
      },
      "source": [
        "**Your answer:** Each row represents:"
      ]
    },
    {
      "cell_type": "markdown",
      "source": [
        "Each row represents a diamond"
      ],
      "metadata": {
        "id": "omMvbjfCMoX5"
      }
    },
    {
      "cell_type": "markdown",
      "metadata": {
        "id": "dPbvmG7RLr14"
      },
      "source": [
        "## Section 2: Strategic Business Questions (20 minutes)\n",
        "\n",
        "The CEO continues: \"Now let's get to the important questions. Our board meeting is tomorrow and I need concrete numbers.\""
      ]
    },
    {
      "cell_type": "markdown",
      "metadata": {
        "id": "TvCqEldXLr14"
      },
      "source": [
        "### Question 4: \"We're considering expanding our storage facilities. How many total carats do we have in inventory? I need to know if our vaults can handle the weight.\"\n",
        "\n",
        "Think about what measurement would help answer this."
      ]
    },
    {
      "cell_type": "code",
      "execution_count": 9,
      "metadata": {
        "colab": {
          "base_uri": "https://localhost:8080/",
          "height": 129
        },
        "id": "ANSudY4pLr15",
        "outputId": "e949827f-aa6f-4d2a-b21f-97691642b6d9"
      },
      "outputs": [
        {
          "output_type": "execute_result",
          "data": {
            "text/plain": [
              "shape: (1, 1)\n",
              "┌──────────────┐\n",
              "│ total_carats │\n",
              "│ ---          │\n",
              "│ f64          │\n",
              "╞══════════════╡\n",
              "│ 8007.12      │\n",
              "└──────────────┘"
            ],
            "text/html": [
              "<div><style>\n",
              ".dataframe > thead > tr,\n",
              ".dataframe > tbody > tr {\n",
              "  text-align: right;\n",
              "  white-space: pre-wrap;\n",
              "}\n",
              "</style>\n",
              "<small>shape: (1, 1)</small><table border=\"1\" class=\"dataframe\"><thead><tr><th>total_carats</th></tr><tr><td>f64</td></tr></thead><tbody><tr><td>8007.12</td></tr></tbody></table></div>"
            ]
          },
          "metadata": {},
          "execution_count": 9
        }
      ],
      "source": [
        "# Your code here:\n",
        "total_carats = df.select(pl.col(\"Carat Weight\").sum().alias(\"total_carats\"))\n",
        "total_carats"
      ]
    },
    {
      "cell_type": "markdown",
      "metadata": {
        "id": "IcxMz-jrLr16"
      },
      "source": [
        "### Question 5: \"Our new marketing campaign claims we have 'the widest variety of cuts in the industry.' Can you verify this?\"\n",
        "\n",
        "The CEO wants to know about variety, not quantity."
      ]
    },
    {
      "cell_type": "code",
      "execution_count": 10,
      "metadata": {
        "colab": {
          "base_uri": "https://localhost:8080/",
          "height": 129
        },
        "id": "hjkSG5rpLr16",
        "outputId": "7910037d-8051-4f3e-d1cd-307254597175"
      },
      "outputs": [
        {
          "output_type": "execute_result",
          "data": {
            "text/plain": [
              "shape: (1, 1)\n",
              "┌─────────────────┐\n",
              "│ num_unique_cuts │\n",
              "│ ---             │\n",
              "│ u32             │\n",
              "╞═════════════════╡\n",
              "│ 5               │\n",
              "└─────────────────┘"
            ],
            "text/html": [
              "<div><style>\n",
              ".dataframe > thead > tr,\n",
              ".dataframe > tbody > tr {\n",
              "  text-align: right;\n",
              "  white-space: pre-wrap;\n",
              "}\n",
              "</style>\n",
              "<small>shape: (1, 1)</small><table border=\"1\" class=\"dataframe\"><thead><tr><th>num_unique_cuts</th></tr><tr><td>u32</td></tr></thead><tbody><tr><td>5</td></tr></tbody></table></div>"
            ]
          },
          "metadata": {},
          "execution_count": 10
        }
      ],
      "source": [
        "# Your code here:\n",
        "unique_cuts = df.select(pl.col(\"Cut\").n_unique().alias(\"num_unique_cuts\"))\n",
        "unique_cuts"
      ]
    },
    {
      "cell_type": "markdown",
      "metadata": {
        "id": "j9yTFsTjLr16"
      },
      "source": [
        "### Question 6: \"I'm meeting with our insurance company. They need to know our price exposure - what's our most and least valuable diamond?\""
      ]
    },
    {
      "cell_type": "code",
      "execution_count": 20,
      "metadata": {
        "colab": {
          "base_uri": "https://localhost:8080/"
        },
        "id": "9RQSQQL_Lr17",
        "outputId": "9e5d5aa7-a551-459d-85ee-b070827b78a0"
      },
      "outputs": [
        {
          "output_type": "stream",
          "name": "stdout",
          "text": [
            "The most valuable diamond is worth: shape: (1, 1)\n",
            "┌────────┐\n",
            "│ Price  │\n",
            "│ ---    │\n",
            "│ i64    │\n",
            "╞════════╡\n",
            "│ 101561 │\n",
            "└────────┘\n",
            "The least valuable diamond is worth: shape: (1, 1)\n",
            "┌───────┐\n",
            "│ Price │\n",
            "│ ---   │\n",
            "│ i64   │\n",
            "╞═══════╡\n",
            "│ 2184  │\n",
            "└───────┘\n"
          ]
        }
      ],
      "source": [
        "# Your code here:\n",
        "max_price= df.select(pl.col(\"Price\").max())\n",
        "min_price = df.select(pl.col(\"Price\").min())\n",
        "\n",
        "print(f\"The most valuable diamond is worth: {max_price}\")\n",
        "print(f\"The least valuable diamond is worth: {min_price}\")"
      ]
    },
    {
      "cell_type": "markdown",
      "metadata": {
        "id": "Et32U59uLr17"
      },
      "source": [
        "### Question 7: \"Which color grades should we focus on in our premium line? I need typical prices across our color spectrum.\"\n",
        "\n",
        "The CEO wants to understand pricing patterns."
      ]
    },
    {
      "cell_type": "code",
      "execution_count": 28,
      "metadata": {
        "colab": {
          "base_uri": "https://localhost:8080/",
          "height": 210
        },
        "id": "m5xeltUQLr18",
        "outputId": "fb349d71-5187-46d7-8e2d-0fdeade5a8a0"
      },
      "outputs": [
        {
          "output_type": "stream",
          "name": "stdout",
          "text": [
            "We should focus on the following colors in our premium line:\n"
          ]
        },
        {
          "output_type": "execute_result",
          "data": {
            "text/plain": [
              "shape: (3, 2)\n",
              "┌───────┬──────────────┐\n",
              "│ Color ┆ Price        │\n",
              "│ ---   ┆ ---          │\n",
              "│ str   ┆ f64          │\n",
              "╞═══════╪══════════════╡\n",
              "│ D     ┆ 15255.783661 │\n",
              "│ F     ┆ 12712.241856 │\n",
              "│ G     ┆ 12520.050633 │\n",
              "└───────┴──────────────┘"
            ],
            "text/html": [
              "<div><style>\n",
              ".dataframe > thead > tr,\n",
              ".dataframe > tbody > tr {\n",
              "  text-align: right;\n",
              "  white-space: pre-wrap;\n",
              "}\n",
              "</style>\n",
              "<small>shape: (3, 2)</small><table border=\"1\" class=\"dataframe\"><thead><tr><th>Color</th><th>Price</th></tr><tr><td>str</td><td>f64</td></tr></thead><tbody><tr><td>&quot;D&quot;</td><td>15255.783661</td></tr><tr><td>&quot;F&quot;</td><td>12712.241856</td></tr><tr><td>&quot;G&quot;</td><td>12520.050633</td></tr></tbody></table></div>"
            ]
          },
          "metadata": {},
          "execution_count": 28
        }
      ],
      "source": [
        "# Your code here:\n",
        "avg_price_by_color = df.group_by(\"Color\").agg(pl.col(\"Price\").mean()).sort(\"Price\", descending=True)\n",
        "print(f\"We should focus on the following colors in our premium line:\")\n",
        "avg_price_by_color.head(3)"
      ]
    },
    {
      "cell_type": "markdown",
      "metadata": {
        "id": "D0pU02u-Lr19"
      },
      "source": [
        "**Reflection:** After analyzing by color, how has your view of the data changed? What does each row in your result represent now?"
      ]
    },
    {
      "cell_type": "markdown",
      "metadata": {
        "id": "xgzAZcwfLr19"
      },
      "source": [
        "**Your answer:** New grain ="
      ]
    },
    {
      "cell_type": "markdown",
      "source": [
        "New Grain = Each row represents a color of a diamond"
      ],
      "metadata": {
        "id": "gHbriEiZPtzj"
      }
    },
    {
      "cell_type": "markdown",
      "metadata": {
        "id": "NoJnQOMfLr1-"
      },
      "source": [
        "## Section 3: Advanced Strategic Analysis (10 minutes)\n",
        "\n",
        "The CEO leans forward: \"These next questions will shape our strategy for next year.\""
      ]
    },
    {
      "cell_type": "markdown",
      "metadata": {
        "id": "J_l6LaIMLr1_"
      },
      "source": [
        "### Question 8: \"We're thinking of specializing in certain clarity grades. For our investor deck, I need a complete breakdown showing: how many diamonds we have in each clarity grade, their typical price, and the total carats we're holding for each grade.\""
      ]
    },
    {
      "cell_type": "code",
      "execution_count": 33,
      "metadata": {
        "colab": {
          "base_uri": "https://localhost:8080/",
          "height": 352
        },
        "id": "sN2qCWPjLr1_",
        "outputId": "7a2e5c4a-02b6-4c57-c987-ea27726e7cc9"
      },
      "outputs": [
        {
          "output_type": "stream",
          "name": "stderr",
          "text": [
            "/tmp/ipython-input-4228792485.py:6: DeprecationWarning: `pl.count()` is deprecated. Please use `pl.len()` instead.\n",
            "  pl.count().alias(\"num_diamonds\"),\n"
          ]
        },
        {
          "output_type": "execute_result",
          "data": {
            "text/plain": [
              "shape: (7, 4)\n",
              "┌─────────┬──────────────┬──────────────┬──────────────┐\n",
              "│ Clarity ┆ num_diamonds ┆ avg_price    ┆ total_carats │\n",
              "│ ---     ┆ ---          ┆ ---          ┆ ---          │\n",
              "│ str     ┆ u32          ┆ f64          ┆ f64          │\n",
              "╞═════════╪══════════════╪══════════════╪══════════════╡\n",
              "│ FL      ┆ 4            ┆ 63776.0      ┆ 7.87         │\n",
              "│ IF      ┆ 219          ┆ 22105.844749 ┆ 316.0        │\n",
              "│ SI1     ┆ 2059         ┆ 8018.864012  ┆ 2563.69      │\n",
              "│ VS1     ┆ 1192         ┆ 13694.113255 ┆ 1682.74      │\n",
              "│ VS2     ┆ 1575         ┆ 11809.053333 ┆ 2170.81      │\n",
              "│ VVS1    ┆ 285          ┆ 16845.680702 ┆ 389.43       │\n",
              "│ VVS2    ┆ 666          ┆ 14142.177177 ┆ 876.58       │\n",
              "└─────────┴──────────────┴──────────────┴──────────────┘"
            ],
            "text/html": [
              "<div><style>\n",
              ".dataframe > thead > tr,\n",
              ".dataframe > tbody > tr {\n",
              "  text-align: right;\n",
              "  white-space: pre-wrap;\n",
              "}\n",
              "</style>\n",
              "<small>shape: (7, 4)</small><table border=\"1\" class=\"dataframe\"><thead><tr><th>Clarity</th><th>num_diamonds</th><th>avg_price</th><th>total_carats</th></tr><tr><td>str</td><td>u32</td><td>f64</td><td>f64</td></tr></thead><tbody><tr><td>&quot;FL&quot;</td><td>4</td><td>63776.0</td><td>7.87</td></tr><tr><td>&quot;IF&quot;</td><td>219</td><td>22105.844749</td><td>316.0</td></tr><tr><td>&quot;SI1&quot;</td><td>2059</td><td>8018.864012</td><td>2563.69</td></tr><tr><td>&quot;VS1&quot;</td><td>1192</td><td>13694.113255</td><td>1682.74</td></tr><tr><td>&quot;VS2&quot;</td><td>1575</td><td>11809.053333</td><td>2170.81</td></tr><tr><td>&quot;VVS1&quot;</td><td>285</td><td>16845.680702</td><td>389.43</td></tr><tr><td>&quot;VVS2&quot;</td><td>666</td><td>14142.177177</td><td>876.58</td></tr></tbody></table></div>"
            ]
          },
          "metadata": {},
          "execution_count": 33
        }
      ],
      "source": [
        "# Your code here:\n",
        "clarity_breakdown = (\n",
        "    df\n",
        "    .group_by(\"Clarity\")\n",
        "    .agg([\n",
        "        pl.count().alias(\"num_diamonds\"),\n",
        "        pl.col(\"Price\").mean().alias(\"avg_price\"),\n",
        "        pl.col(\"Carat Weight\").sum().alias(\"total_carats\")\n",
        "    ])\n",
        "    .sort(\"Clarity\")\n",
        ")\n",
        "\n",
        "clarity_breakdown"
      ]
    },
    {
      "cell_type": "markdown",
      "metadata": {
        "id": "fbF4eLYNLr2A"
      },
      "source": [
        "### Question 9: \"My luxury competitor claims they have the best prices for every cut-color combination. Show me our pricing structure across these combinations - I want to see where we're competitive.\""
      ]
    },
    {
      "cell_type": "code",
      "execution_count": 40,
      "metadata": {
        "colab": {
          "base_uri": "https://localhost:8080/",
          "height": 443
        },
        "id": "sswMtKp2Lr2B",
        "outputId": "b02acd1d-4784-4ccf-a176-0e9c9d260624"
      },
      "outputs": [
        {
          "output_type": "execute_result",
          "data": {
            "text/plain": [
              "shape: (30, 3)\n",
              "┌─────────────────┬───────┬──────────────┐\n",
              "│ Cut             ┆ Color ┆ avg_price    │\n",
              "│ ---             ┆ ---   ┆ ---          │\n",
              "│ str             ┆ str   ┆ f64          │\n",
              "╞═════════════════╪═══════╪══════════════╡\n",
              "│ Signature-Ideal ┆ D     ┆ 19823.1      │\n",
              "│ Ideal           ┆ D     ┆ 18461.953571 │\n",
              "│ Ideal           ┆ F     ┆ 14729.426997 │\n",
              "│ Ideal           ┆ G     ┆ 13570.310145 │\n",
              "│ Signature-Ideal ┆ F     ┆ 13247.947368 │\n",
              "│ …               ┆ …     ┆ …            │\n",
              "│ Fair            ┆ F     ┆ 6063.625     │\n",
              "│ Fair            ┆ D     ┆ 6058.25      │\n",
              "│ Fair            ┆ H     ┆ 5908.5       │\n",
              "│ Fair            ┆ E     ┆ 5370.625     │\n",
              "│ Fair            ┆ I     ┆ 4573.1875    │\n",
              "└─────────────────┴───────┴──────────────┘"
            ],
            "text/html": [
              "<div><style>\n",
              ".dataframe > thead > tr,\n",
              ".dataframe > tbody > tr {\n",
              "  text-align: right;\n",
              "  white-space: pre-wrap;\n",
              "}\n",
              "</style>\n",
              "<small>shape: (30, 3)</small><table border=\"1\" class=\"dataframe\"><thead><tr><th>Cut</th><th>Color</th><th>avg_price</th></tr><tr><td>str</td><td>str</td><td>f64</td></tr></thead><tbody><tr><td>&quot;Signature-Ideal&quot;</td><td>&quot;D&quot;</td><td>19823.1</td></tr><tr><td>&quot;Ideal&quot;</td><td>&quot;D&quot;</td><td>18461.953571</td></tr><tr><td>&quot;Ideal&quot;</td><td>&quot;F&quot;</td><td>14729.426997</td></tr><tr><td>&quot;Ideal&quot;</td><td>&quot;G&quot;</td><td>13570.310145</td></tr><tr><td>&quot;Signature-Ideal&quot;</td><td>&quot;F&quot;</td><td>13247.947368</td></tr><tr><td>&hellip;</td><td>&hellip;</td><td>&hellip;</td></tr><tr><td>&quot;Fair&quot;</td><td>&quot;F&quot;</td><td>6063.625</td></tr><tr><td>&quot;Fair&quot;</td><td>&quot;D&quot;</td><td>6058.25</td></tr><tr><td>&quot;Fair&quot;</td><td>&quot;H&quot;</td><td>5908.5</td></tr><tr><td>&quot;Fair&quot;</td><td>&quot;E&quot;</td><td>5370.625</td></tr><tr><td>&quot;Fair&quot;</td><td>&quot;I&quot;</td><td>4573.1875</td></tr></tbody></table></div>"
            ]
          },
          "metadata": {},
          "execution_count": 40
        }
      ],
      "source": [
        "# Your code here:\n",
        "\n",
        "pricing_structure = (\n",
        "    df\n",
        "    .group_by([\"Cut\", \"Color\"])\n",
        "    .agg(pl.col(\"Price\").mean().alias(\"avg_price\"))\n",
        "    .sort([\"Cut\", \"Color\"])\n",
        "    .sort(\"avg_price\", descending=True)\n",
        ")\n",
        "\n",
        "pricing_structure"
      ]
    },
    {
      "cell_type": "markdown",
      "metadata": {
        "id": "gEREOQWxLr2C"
      },
      "source": [
        "**Reflection:** How specific is your analysis now? What level of detail does each row represent?"
      ]
    },
    {
      "cell_type": "markdown",
      "metadata": {
        "id": "f7tk9J1nLr2C"
      },
      "source": [
        "**Your answer:** New grain ="
      ]
    },
    {
      "cell_type": "markdown",
      "metadata": {
        "id": "SW4wfiqLLr2C"
      },
      "source": [
        "### Question 10: URGENT - \"Our biggest client is interested in purchasing entire inventory segments. They asked: 'Which color-cut combinations represent your highest total inventory value?' Show me the top 5 most valuable inventory segments by total worth, and include how many diamonds are in each segment.\"\n",
        "\n",
        "This is critical for tomorrow's negotiation."
      ]
    },
    {
      "cell_type": "code",
      "execution_count": 41,
      "metadata": {
        "colab": {
          "base_uri": "https://localhost:8080/",
          "height": 290
        },
        "id": "e36zY9MxLr2D",
        "outputId": "854405b7-bdaf-4b27-80ee-06e1b523823d"
      },
      "outputs": [
        {
          "output_type": "stream",
          "name": "stderr",
          "text": [
            "/tmp/ipython-input-3880168290.py:6: DeprecationWarning: `pl.count()` is deprecated. Please use `pl.len()` instead.\n",
            "  pl.count().alias(\"num_diamonds\"),\n"
          ]
        },
        {
          "output_type": "execute_result",
          "data": {
            "text/plain": [
              "shape: (5, 4)\n",
              "┌───────┬───────────┬──────────────┬─────────────┐\n",
              "│ Color ┆ Cut       ┆ num_diamonds ┆ total_value │\n",
              "│ ---   ┆ ---       ┆ ---          ┆ ---         │\n",
              "│ str   ┆ str       ┆ u32          ┆ i64         │\n",
              "╞═══════╪═══════════╪══════════════╪═════════════╡\n",
              "│ G     ┆ Ideal     ┆ 690          ┆ 9363514     │\n",
              "│ G     ┆ Very Good ┆ 578          ┆ 7140620     │\n",
              "│ F     ┆ Very Good ┆ 455          ┆ 5648327     │\n",
              "│ F     ┆ Ideal     ┆ 363          ┆ 5346782     │\n",
              "│ H     ┆ Ideal     ┆ 458          ┆ 5279687     │\n",
              "└───────┴───────────┴──────────────┴─────────────┘"
            ],
            "text/html": [
              "<div><style>\n",
              ".dataframe > thead > tr,\n",
              ".dataframe > tbody > tr {\n",
              "  text-align: right;\n",
              "  white-space: pre-wrap;\n",
              "}\n",
              "</style>\n",
              "<small>shape: (5, 4)</small><table border=\"1\" class=\"dataframe\"><thead><tr><th>Color</th><th>Cut</th><th>num_diamonds</th><th>total_value</th></tr><tr><td>str</td><td>str</td><td>u32</td><td>i64</td></tr></thead><tbody><tr><td>&quot;G&quot;</td><td>&quot;Ideal&quot;</td><td>690</td><td>9363514</td></tr><tr><td>&quot;G&quot;</td><td>&quot;Very Good&quot;</td><td>578</td><td>7140620</td></tr><tr><td>&quot;F&quot;</td><td>&quot;Very Good&quot;</td><td>455</td><td>5648327</td></tr><tr><td>&quot;F&quot;</td><td>&quot;Ideal&quot;</td><td>363</td><td>5346782</td></tr><tr><td>&quot;H&quot;</td><td>&quot;Ideal&quot;</td><td>458</td><td>5279687</td></tr></tbody></table></div>"
            ]
          },
          "metadata": {},
          "execution_count": 41
        }
      ],
      "source": [
        "# Your code here:\n",
        "top_segments = (\n",
        "    df\n",
        "    .group_by([\"Color\", \"Cut\"])\n",
        "    .agg([\n",
        "        pl.count().alias(\"num_diamonds\"),\n",
        "        pl.col(\"Price\").sum().alias(\"total_value\")\n",
        "    ])\n",
        "    .sort(\"total_value\", descending=True)\n",
        "    .head(5)\n",
        ")\n",
        "\n",
        "top_segments"
      ]
    },
    {
      "cell_type": "markdown",
      "metadata": {
        "id": "B6gB9NXELr2D"
      },
      "source": [
        "## Debrief\n",
        "\n",
        "Congratulations! You've just completed your first day as the diamond company's data analyst.\n",
        "\n",
        "Remember:\n",
        "- CEOs speak in business language, not technical terms\n",
        "- Always understand what each row represents before analyzing\n",
        "- Business questions contain clues about which operations to use"
      ]
    }
  ],
  "metadata": {
    "kernelspec": {
      "display_name": "Python 3",
      "language": "python",
      "name": "python3"
    },
    "language_info": {
      "codemirror_mode": {
        "name": "ipython",
        "version": 3
      },
      "file_extension": ".py",
      "mimetype": "text/x-python",
      "name": "python",
      "nbconvert_exporter": "python",
      "pygments_lexer": "ipython3",
      "version": "3.12.0"
    },
    "colab": {
      "provenance": []
    }
  },
  "nbformat": 4,
  "nbformat_minor": 0
}